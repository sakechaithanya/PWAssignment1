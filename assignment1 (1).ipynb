{
 "cells": [
  {
   "cell_type": "markdown",
   "id": "9fce5ef6-318b-4d66-a21e-e7ece99c7401",
   "metadata": {},
   "source": [
    "####Assignment1"
   ]
  },
  {
   "cell_type": "code",
   "execution_count": null,
   "id": "56dc5eab-0408-45b2-bad0-2b45eb1b9a2e",
   "metadata": {},
   "outputs": [],
   "source": [
    "Q1. Create one variable containing following type of data:\n",
    "(i) string\n",
    "(ii) list\n",
    "(iii) float\n",
    "(iv) tuple"
   ]
  },
  {
   "cell_type": "code",
   "execution_count": 1,
   "id": "f7cc63ec-83c0-461b-94f3-33d2a32aa194",
   "metadata": {},
   "outputs": [],
   "source": [
    "sake =['pwskills',[1,2,3],5.2,(0,1,2)]"
   ]
  },
  {
   "cell_type": "code",
   "execution_count": 2,
   "id": "0a72168b-3a9b-4ecb-8930-4614dd970726",
   "metadata": {},
   "outputs": [
    {
     "data": {
      "text/plain": [
       "['pwskills', [1, 2, 3], 5.2, (0, 1, 2)]"
      ]
     },
     "execution_count": 2,
     "metadata": {},
     "output_type": "execute_result"
    }
   ],
   "source": [
    "sake"
   ]
  },
  {
   "cell_type": "markdown",
   "id": "1ca85f93-bc58-42d7-9eef-c15e9708f16c",
   "metadata": {},
   "source": [
    "#Q2. Given are some following variables containing data:\n",
    "var1 =‘ ‘\n",
    "var2 = ‘[ DS , ML , Python]’\n",
    "var3 = [ ‘DS’ , ’ML’ , ‘Python’ ]\n",
    "var4 = 1.\n",
    "#What will be the data type of the above given variable."
   ]
  },
  {
   "cell_type": "code",
   "execution_count": 7,
   "id": "fe553e12-e7f1-410a-b650-46f63de88dfd",
   "metadata": {},
   "outputs": [
    {
     "ename": "SyntaxError",
     "evalue": "invalid character '‘' (U+2018) (1406813403.py, line 1)",
     "output_type": "error",
     "traceback": [
      "\u001b[0;36m  Cell \u001b[0;32mIn[7], line 1\u001b[0;36m\u001b[0m\n\u001b[0;31m    var1 =‘ ‘\u001b[0m\n\u001b[0m          ^\u001b[0m\n\u001b[0;31mSyntaxError\u001b[0m\u001b[0;31m:\u001b[0m invalid character '‘' (U+2018)\n"
     ]
    }
   ],
   "source": [
    "var1 =‘ ‘               #format be ---> ('')\n",
    "type(var1)"
   ]
  },
  {
   "cell_type": "code",
   "execution_count": 8,
   "id": "7712f9a6-ce2c-4c7d-9949-866b16f590e2",
   "metadata": {},
   "outputs": [
    {
     "ename": "SyntaxError",
     "evalue": "invalid character '‘' (U+2018) (3990704681.py, line 1)",
     "output_type": "error",
     "traceback": [
      "\u001b[0;36m  Cell \u001b[0;32mIn[8], line 1\u001b[0;36m\u001b[0m\n\u001b[0;31m    var2 = ‘[ DS , ML , Python]’\u001b[0m\n\u001b[0m           ^\u001b[0m\n\u001b[0;31mSyntaxError\u001b[0m\u001b[0;31m:\u001b[0m invalid character '‘' (U+2018)\n"
     ]
    }
   ],
   "source": [
    "var2 = ‘[ DS , ML , Python]’\n",
    "type(var2)"
   ]
  },
  {
   "cell_type": "code",
   "execution_count": 9,
   "id": "b8884c76-6baa-487b-b208-34622116a462",
   "metadata": {},
   "outputs": [
    {
     "ename": "SyntaxError",
     "evalue": "invalid character '‘' (U+2018) (763556664.py, line 1)",
     "output_type": "error",
     "traceback": [
      "\u001b[0;36m  Cell \u001b[0;32mIn[9], line 1\u001b[0;36m\u001b[0m\n\u001b[0;31m    var3 = [ ‘DS’ , ’ML’ , ‘Python’ ]\u001b[0m\n\u001b[0m             ^\u001b[0m\n\u001b[0;31mSyntaxError\u001b[0m\u001b[0;31m:\u001b[0m invalid character '‘' (U+2018)\n"
     ]
    }
   ],
   "source": [
    "var3 = [ ‘DS’ , ’ML’ , ‘Python’ ]\n",
    "type(var3)"
   ]
  },
  {
   "cell_type": "code",
   "execution_count": 10,
   "id": "c47801a8-e8ab-4a49-a567-2418f220eecd",
   "metadata": {},
   "outputs": [
    {
     "data": {
      "text/plain": [
       "float"
      ]
     },
     "execution_count": 10,
     "metadata": {},
     "output_type": "execute_result"
    }
   ],
   "source": [
    "var4 = 1.\n",
    "type(var4)"
   ]
  },
  {
   "cell_type": "markdown",
   "id": "bda83aa8-b2f1-4558-bebe-fe76c076e1e3",
   "metadata": {},
   "source": [
    "Q3. Explain the use of the following operators using an example:\n",
    "(i) /\n",
    "(ii) %\n",
    "(iii) //\n",
    "(iv) **"
   ]
  },
  {
   "cell_type": "code",
   "execution_count": 11,
   "id": "e301e17e-9751-45c8-8198-a6efc4bf104f",
   "metadata": {},
   "outputs": [],
   "source": [
    "a=10\n",
    "b=2"
   ]
  },
  {
   "cell_type": "code",
   "execution_count": 13,
   "id": "99f4d319-310e-4565-9cf8-1a20bd48389f",
   "metadata": {},
   "outputs": [
    {
     "data": {
      "text/plain": [
       "5.0"
      ]
     },
     "execution_count": 13,
     "metadata": {},
     "output_type": "execute_result"
    }
   ],
   "source": [
    "a/b  #'/' division symbol generates float value "
   ]
  },
  {
   "cell_type": "code",
   "execution_count": 15,
   "id": "ebf4a814-9d97-47b6-bb07-3e274339d5f8",
   "metadata": {},
   "outputs": [
    {
     "data": {
      "text/plain": [
       "0"
      ]
     },
     "execution_count": 15,
     "metadata": {},
     "output_type": "execute_result"
    }
   ],
   "source": [
    "a%b  #'%' modulus symbol generates remainder"
   ]
  },
  {
   "cell_type": "code",
   "execution_count": 16,
   "id": "154d54de-6ec5-4bfe-af2a-d0e5bac5bf0e",
   "metadata": {},
   "outputs": [
    {
     "data": {
      "text/plain": [
       "5"
      ]
     },
     "execution_count": 16,
     "metadata": {},
     "output_type": "execute_result"
    }
   ],
   "source": [
    "a//b # '//' symbol generates integer"
   ]
  },
  {
   "cell_type": "code",
   "execution_count": 17,
   "id": "3381a15c-b4af-42bf-b913-8b50d7d89764",
   "metadata": {},
   "outputs": [
    {
     "data": {
      "text/plain": [
       "100"
      ]
     },
     "execution_count": 17,
     "metadata": {},
     "output_type": "execute_result"
    }
   ],
   "source": [
    "a**b #'**' power symbol gives a power  of b"
   ]
  },
  {
   "cell_type": "markdown",
   "id": "9b002b2a-bc78-451b-a7ca-d541f00a1d40",
   "metadata": {},
   "source": [
    "Q4. Create a list of length 10 of your choice containing multiple types of data. Using for loop print the\n",
    "element and its data type."
   ]
  },
  {
   "cell_type": "code",
   "execution_count": 21,
   "id": "33aea6e8-54bd-4d1f-8064-892790679f78",
   "metadata": {},
   "outputs": [
    {
     "name": "stdout",
     "output_type": "stream",
     "text": [
      "10\n",
      "pwskills <class 'str'>\n",
      "[1, 2, 3] <class 'list'>\n",
      "5.2 <class 'float'>\n",
      "(0, 1, 2) <class 'tuple'>\n",
      "1 <class 'int'>\n",
      "2 <class 'int'>\n",
      "3 <class 'int'>\n",
      "True <class 'bool'>\n",
      "False <class 'bool'>\n",
      "ds <class 'str'>\n"
     ]
    }
   ],
   "source": [
    "sake =['pwskills',[1,2,3],5.2,(0,1,2),1,2,3,True,False,'ds']\n",
    "print(len(sake))\n",
    "for i in sake:\n",
    "    print(i,type(i))"
   ]
  },
  {
   "cell_type": "markdown",
   "id": "bbe9cd9c-1fcf-432e-aff9-62131f3767a0",
   "metadata": {},
   "source": [
    "Q5. Using a while loop, verify if the number A is purely divisible by number B and if so then how many\n",
    "times it can be divisible."
   ]
  },
  {
   "cell_type": "code",
   "execution_count": null,
   "id": "211e71b8-7da2-4f99-a6c8-1c310d30edbf",
   "metadata": {},
   "outputs": [],
   "source": [
    "A=20\n",
    "B=5\n",
    "i=0\n",
    "while(A%B)==0:\n",
    "    i=A//B\n",
    "    print('number A is purely divisible by number B '.i)"
   ]
  },
  {
   "cell_type": "code",
   "execution_count": null,
   "id": "396f2a20-2cb9-4e96-b23b-66d609ebe04a",
   "metadata": {},
   "outputs": [],
   "source": []
  },
  {
   "cell_type": "markdown",
   "id": "88da4414-5de6-40ea-b864-eb65752836a8",
   "metadata": {},
   "source": [
    "Q6. Create a list containing 25 int type data. Using for loop and if-else condition print if the element is\n",
    "divisible by 3 or not."
   ]
  },
  {
   "cell_type": "code",
   "execution_count": 24,
   "id": "d6f39992-7005-4649-8f43-f1751e0189d7",
   "metadata": {},
   "outputs": [],
   "source": [
    "list1=[]\n",
    "for i in range(1,26):\n",
    "    list1.append(i)"
   ]
  },
  {
   "cell_type": "code",
   "execution_count": 26,
   "id": "619c4b1d-06f2-476f-ba9c-d6607ab954e9",
   "metadata": {},
   "outputs": [
    {
     "name": "stdout",
     "output_type": "stream",
     "text": [
      "1  element is not divisible by 3\n",
      "2  element is not divisible by 3\n",
      "3 element is divisible by 3\n",
      "4  element is not divisible by 3\n",
      "5  element is not divisible by 3\n",
      "6 element is divisible by 3\n",
      "7  element is not divisible by 3\n",
      "8  element is not divisible by 3\n",
      "9 element is divisible by 3\n",
      "10  element is not divisible by 3\n",
      "11  element is not divisible by 3\n",
      "12 element is divisible by 3\n",
      "13  element is not divisible by 3\n",
      "14  element is not divisible by 3\n",
      "15 element is divisible by 3\n",
      "16  element is not divisible by 3\n",
      "17  element is not divisible by 3\n",
      "18 element is divisible by 3\n",
      "19  element is not divisible by 3\n",
      "20  element is not divisible by 3\n",
      "21 element is divisible by 3\n",
      "22  element is not divisible by 3\n",
      "23  element is not divisible by 3\n",
      "24 element is divisible by 3\n",
      "25  element is not divisible by 3\n"
     ]
    }
   ],
   "source": [
    "for i in list1:\n",
    "    if (i%3)==0:\n",
    "        print(i,'element is divisible by 3')\n",
    "    else:\n",
    "        print(i,' element is not divisible by 3')"
   ]
  },
  {
   "cell_type": "markdown",
   "id": "ea52e826-1c12-419e-b5a9-bde060e8d4bc",
   "metadata": {},
   "source": [
    "Q7. What do you understand about mutable and immutable data types? Give examples for both showing\n",
    "this property."
   ]
  },
  {
   "cell_type": "markdown",
   "id": "eaf50f17-231e-485a-a9ec-4154e70e3716",
   "metadata": {},
   "source": [
    "Mutable Objects\t\n",
    "A mutable object can be changed after it is created\t\n",
    "Examples : List, Set, Dictionary"
   ]
  },
  {
   "cell_type": "code",
   "execution_count": 28,
   "id": "427c02ec-f277-4338-9a91-3566a4ebad1a",
   "metadata": {},
   "outputs": [
    {
     "data": {
      "text/plain": [
       "[1, 2, 3]"
      ]
     },
     "execution_count": 28,
     "metadata": {},
     "output_type": "execute_result"
    }
   ],
   "source": [
    "l=[1,2,3]\n",
    "l"
   ]
  },
  {
   "cell_type": "code",
   "execution_count": 31,
   "id": "e5900143-8ec4-4395-b719-41f2e6e3b31c",
   "metadata": {},
   "outputs": [
    {
     "data": {
      "text/plain": [
       "[1, 0, 3]"
      ]
     },
     "execution_count": 31,
     "metadata": {},
     "output_type": "execute_result"
    }
   ],
   "source": [
    "l[1]=0   # see here we can change value by index\n",
    "l"
   ]
  },
  {
   "cell_type": "markdown",
   "id": "e48f02e8-ae10-4ae5-9235-bbadeabfc2c0",
   "metadata": {},
   "source": [
    "Immutable Objects\n",
    "An immutable object cannot be changed after it is created\n",
    "Exg: tuples, int, float, bool, frozenset."
   ]
  },
  {
   "cell_type": "code",
   "execution_count": 32,
   "id": "948737d4-35e2-4ce7-95ab-99ca575ef2fe",
   "metadata": {},
   "outputs": [
    {
     "data": {
      "text/plain": [
       "(1, 2, 3)"
      ]
     },
     "execution_count": 32,
     "metadata": {},
     "output_type": "execute_result"
    }
   ],
   "source": [
    "t=(1,2,3)\n",
    "t"
   ]
  },
  {
   "cell_type": "code",
   "execution_count": 33,
   "id": "19ba9846-28a2-4b92-9f08-f19a03f3ddf9",
   "metadata": {},
   "outputs": [
    {
     "ename": "SyntaxError",
     "evalue": "cannot assign to function call here. Maybe you meant '==' instead of '='? (4191587882.py, line 1)",
     "output_type": "error",
     "traceback": [
      "\u001b[0;36m  Cell \u001b[0;32mIn[33], line 1\u001b[0;36m\u001b[0m\n\u001b[0;31m    t(0)=0\u001b[0m\n\u001b[0m    ^\u001b[0m\n\u001b[0;31mSyntaxError\u001b[0m\u001b[0;31m:\u001b[0m cannot assign to function call here. Maybe you meant '==' instead of '='?\n"
     ]
    }
   ],
   "source": [
    "t(0)=0   # it generates error due to its immutable property"
   ]
  },
  {
   "cell_type": "code",
   "execution_count": null,
   "id": "c7b4df68-8a9d-4872-9c52-da94337b8f4b",
   "metadata": {},
   "outputs": [],
   "source": []
  }
 ],
 "metadata": {
  "kernelspec": {
   "display_name": "Python 3 (ipykernel)",
   "language": "python",
   "name": "python3"
  },
  "language_info": {
   "codemirror_mode": {
    "name": "ipython",
    "version": 3
   },
   "file_extension": ".py",
   "mimetype": "text/x-python",
   "name": "python",
   "nbconvert_exporter": "python",
   "pygments_lexer": "ipython3",
   "version": "3.10.8"
  }
 },
 "nbformat": 4,
 "nbformat_minor": 5
}
